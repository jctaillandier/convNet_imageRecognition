{
 "cells": [
  {
   "cell_type": "markdown",
   "metadata": {
    "colab_type": "text",
    "id": "So8rl5nycWjh"
   },
   "source": [
    "### Intro"
   ]
  },
  {
   "cell_type": "code",
   "execution_count": 2,
   "metadata": {
    "colab": {
     "base_uri": "https://localhost:8080/",
     "height": 35
    },
    "colab_type": "code",
    "id": "6dyLnW-8_YRG",
    "outputId": "60da8cbc-22f2-4728-9a3b-1dfaa17fc6c2"
   },
   "outputs": [
    {
     "name": "stdout",
     "output_type": "stream",
     "text": [
      "Populating the interactive namespace from numpy and matplotlib\n"
     ]
    }
   ],
   "source": [
    "import math\n",
    "import numpy as np\n",
    "import matplotlib.pyplot as plt\n",
    "%pylab inline\n",
    "import os\n",
    "import time\n",
    "from sklearn import preprocessing\n",
    "from numpy import array\n",
    "from numpy import argmax\n",
    "from sklearn.preprocessing import LabelEncoder\n",
    "from sklearn.preprocessing import OneHotEncoder\n",
    "from sklearn import preprocessing\n",
    "from sklearn.model_selection import cross_val_score\n",
    "from os.path import exists\n",
    "from wheel.pep425tags import get_abbr_impl, get_impl_ver, get_abi_tag\n",
    "platform = '{}{}-{}'.format(get_abbr_impl(), get_impl_ver(), get_abi_tag())\n",
    "cuda_output = !ldconfig -p|grep cudart.so|sed -e 's/.*\\.\\([0-9]*\\)\\.\\([0-9]*\\)$/cu\\1\\2/'\n",
    "accelerator = cuda_output[0] if exists('/dev/nvidia0') else 'cpu'\n",
    "!pip install -q http://download.pytorch.org/whl/{accelerator}/torch-0.4.1-{platform}-linux_x86_64.whl torchvision\n",
    "  \n"
   ]
  },
  {
   "cell_type": "code",
   "execution_count": 3,
   "metadata": {
    "colab": {
     "base_uri": "https://localhost:8080/",
     "height": 284
    },
    "colab_type": "code",
    "id": "FFjq2I214gfW",
    "outputId": "40516a70-4050-4d47-a210-45935299cccf"
   },
   "outputs": [
    {
     "name": "stdout",
     "output_type": "stream",
     "text": [
      "Requirement already satisfied: PyDrive in /usr/local/lib/python3.6/dist-packages (1.3.1)\n",
      "Requirement already satisfied: google-api-python-client>=1.2 in /usr/local/lib/python3.6/dist-packages (from PyDrive) (1.6.7)\n",
      "Requirement already satisfied: oauth2client>=4.0.0 in /usr/local/lib/python3.6/dist-packages (from PyDrive) (4.1.3)\n",
      "Requirement already satisfied: PyYAML>=3.0 in /usr/local/lib/python3.6/dist-packages (from PyDrive) (3.13)\n",
      "Requirement already satisfied: httplib2<1dev,>=0.9.2 in /usr/local/lib/python3.6/dist-packages (from google-api-python-client>=1.2->PyDrive) (0.11.3)\n",
      "Requirement already satisfied: six<2dev,>=1.6.1 in /usr/local/lib/python3.6/dist-packages (from google-api-python-client>=1.2->PyDrive) (1.11.0)\n",
      "Requirement already satisfied: uritemplate<4dev,>=3.0.0 in /usr/local/lib/python3.6/dist-packages (from google-api-python-client>=1.2->PyDrive) (3.0.0)\n",
      "Requirement already satisfied: pyasn1>=0.1.7 in /usr/local/lib/python3.6/dist-packages (from oauth2client>=4.0.0->PyDrive) (0.4.4)\n",
      "Requirement already satisfied: pyasn1-modules>=0.0.5 in /usr/local/lib/python3.6/dist-packages (from oauth2client>=4.0.0->PyDrive) (0.2.2)\n",
      "Requirement already satisfied: rsa>=3.1.4 in /usr/local/lib/python3.6/dist-packages (from oauth2client>=4.0.0->PyDrive) (4.0)\n",
      "Requirement already satisfied: Pillow in /usr/local/lib/python3.6/dist-packages (5.3.0)\n",
      "Requirement already satisfied: image in /usr/local/lib/python3.6/dist-packages (1.5.27)\n",
      "Requirement already satisfied: pillow in /usr/local/lib/python3.6/dist-packages (from image) (5.3.0)\n",
      "Requirement already satisfied: django in /usr/local/lib/python3.6/dist-packages (from image) (2.1.3)\n",
      "Requirement already satisfied: pytz in /usr/local/lib/python3.6/dist-packages (from django->image) (2018.7)\n"
     ]
    }
   ],
   "source": [
    "!pip install PyDrive\n",
    "#!pip uninstall Pillow\n",
    "!pip install Pillow\n",
    "#!pip uninstall image\n",
    "!pip install image\n",
    "\n",
    "import image\n",
    "from PIL import Image\n"
   ]
  },
  {
   "cell_type": "code",
   "execution_count": 4,
   "metadata": {
    "colab": {
     "base_uri": "https://localhost:8080/",
     "height": 35
    },
    "colab_type": "code",
    "id": "HzQUhzQYMmHw",
    "outputId": "6d091832-7425-4367-9e73-4b4a29869544"
   },
   "outputs": [
    {
     "name": "stdout",
     "output_type": "stream",
     "text": [
      "Drive already mounted at /content/drive; to attempt to forcibly remount, call drive.mount(\"/content/drive\", force_remount=True).\n"
     ]
    }
   ],
   "source": [
    "\n",
    "from google.colab import drive\n",
    "drive.mount('/content/drive')"
   ]
  },
  {
   "cell_type": "markdown",
   "metadata": {
    "colab_type": "text",
    "id": "xB-nB_wh_YRO"
   },
   "source": [
    "### Numpy array processing"
   ]
  },
  {
   "cell_type": "code",
   "execution_count": 5,
   "metadata": {
    "colab": {
     "base_uri": "https://localhost:8080/",
     "height": 52
    },
    "colab_type": "code",
    "id": "ONSinaPjET4U",
    "outputId": "6a57da12-1ea6-4aa6-f1f5-7ab7b8840919"
   },
   "outputs": [
    {
     "name": "stdout",
     "output_type": "stream",
     "text": [
      "(10000, 2)\n",
      "(10000,)\n"
     ]
    }
   ],
   "source": [
    "\n",
    "full_images = np.load('/content/drive/My Drive/4 - kaggle/input/train_images.npy', encoding='latin1')\n",
    "print(full_images.shape)\n",
    "\n",
    "\n",
    "full_train_labels = np.genfromtxt('/content/drive/My Drive/4 - kaggle/input/train_labels.csv', names=True, delimiter=',', dtype=[('Id', 'i8'), ('Category', 'S20')])\n",
    "print(full_train_labels.shape)"
   ]
  },
  {
   "cell_type": "code",
   "execution_count": 6,
   "metadata": {
    "colab": {
     "base_uri": "https://localhost:8080/",
     "height": 159
    },
    "colab_type": "code",
    "id": "XO8DUmXN_YRe",
    "outputId": "634e3523-d4d6-4eec-e764-6c2102a0e74c"
   },
   "outputs": [
    {
     "name": "stdout",
     "output_type": "stream",
     "text": [
      "input format:\n",
      "[[0 array([0., 0., 0., ..., 0., 0., 0.])]\n",
      " [1 array([0., 0., 0., ..., 0., 0., 0.])]\n",
      " [2 array([0., 0., 0., ..., 0., 0., 0.])]\n",
      " [3 array([0., 0., 0., ..., 0., 0., 0.])]\n",
      " [4 array([0., 0., 0., ..., 0., 0., 0.])]]\n",
      "label format:\n",
      "(9, b'rollerskates')\n"
     ]
    }
   ],
   "source": [
    "#Reshaping image to 100x100\n",
    "example_index = 9\n",
    "print('input format:')\n",
    "print(full_images[0:5,...])\n",
    "image_train1 = (full_images[example_index,1]).reshape(100,100)\n",
    "#plt.imshow(image_train1)\n",
    "#Printing label\n",
    "print('label format:')\n",
    "print(full_train_labels[example_index])"
   ]
  },
  {
   "cell_type": "code",
   "execution_count": 7,
   "metadata": {
    "colab": {
     "base_uri": "https://localhost:8080/",
     "height": 35
    },
    "colab_type": "code",
    "id": "3cZEZGIb_YRm",
    "outputId": "b36ee715-62d1-49fa-c4bd-ab97ca54a7ae"
   },
   "outputs": [
    {
     "name": "stdout",
     "output_type": "stream",
     "text": [
      "size of test set:  10000\n"
     ]
    }
   ],
   "source": [
    "# Loading test datasets\n",
    "images_test = np.load('/content/drive/My Drive/4 - kaggle/input/test_images.npy', encoding='latin1')\n",
    "print('size of test set: ', images_test.shape[0])\n",
    "\n",
    "#image_test1 = (images_test[0][1]).reshape(100,100)\n",
    "#plt.imshow(image_test1)"
   ]
  },
  {
   "cell_type": "code",
   "execution_count": 8,
   "metadata": {
    "colab": {
     "base_uri": "https://localhost:8080/",
     "height": 35
    },
    "colab_type": "code",
    "id": "ZUJAm_3n_YRw",
    "outputId": "85552a1e-9403-4dde-d1d6-a59af65b7941"
   },
   "outputs": [
    {
     "name": "stdout",
     "output_type": "stream",
     "text": [
      "[b'shovel' b'rifle' b'scorpion' ... b'rollerskates' b'mouth' b'pencil']\n"
     ]
    }
   ],
   "source": [
    "# Unpacking tuple\n",
    "\n",
    "full_y_train = np.asarray([item[1] for item in full_train_labels])\n",
    "\n",
    "full_images_train = np.asarray([item[1] for item in full_images]).reshape(10000,10000)\n",
    "\n",
    "print(full_y_train)"
   ]
  },
  {
   "cell_type": "code",
   "execution_count": 9,
   "metadata": {
    "colab": {
     "base_uri": "https://localhost:8080/",
     "height": 35
    },
    "colab_type": "code",
    "id": "4jQX6SHY_YRz",
    "outputId": "66747034-4648-4d73-ba3c-1c705260e841"
   },
   "outputs": [
    {
     "name": "stdout",
     "output_type": "stream",
     "text": [
      "[25]\n"
     ]
    }
   ],
   "source": [
    "#one hot encoding\n",
    "\n",
    "label_encoder = LabelEncoder()\n",
    "integer_encoded = label_encoder.fit_transform(full_y_train)\n",
    "\n",
    "onehot_encoder = OneHotEncoder(sparse=False)\n",
    "integer_encoded = integer_encoded.reshape(len(integer_encoded), 1)\n",
    "\n",
    "\n",
    "onehot_encoded = onehot_encoder.fit_transform(integer_encoded)\n",
    "\n",
    "print(integer_encoded[0])"
   ]
  },
  {
   "cell_type": "code",
   "execution_count": 10,
   "metadata": {
    "colab": {
     "base_uri": "https://localhost:8080/",
     "height": 106
    },
    "colab_type": "code",
    "id": "r7iy26Do_YR4",
    "outputId": "33e0b532-e4a3-406e-86bf-8b7a45106f1f"
   },
   "outputs": [
    {
     "name": "stdout",
     "output_type": "stream",
     "text": [
      "[b'apple' b'empty' b'moustache' b'mouth' b'mug' b'nail' b'nose' b'octagon'\n",
      " b'paintbrush' b'panda' b'parrot' b'peanut' b'pear' b'pencil' b'penguin'\n",
      " b'pillow' b'pineapple' b'pool' b'rabbit' b'rhinoceros' b'rifle'\n",
      " b'rollerskates' b'sailboat' b'scorpion' b'screwdriver' b'shovel' b'sink'\n",
      " b'skateboard' b'skull' b'spoon' b'squiggle']\n"
     ]
    }
   ],
   "source": [
    "print(label_encoder.classes_)"
   ]
  },
  {
   "cell_type": "markdown",
   "metadata": {
    "colab_type": "text",
    "id": "Sz9uz-61_YR8"
   },
   "source": [
    "### Split into train a valid set"
   ]
  },
  {
   "cell_type": "code",
   "execution_count": 0,
   "metadata": {
    "colab": {},
    "colab_type": "code",
    "id": "VK5pB3Ti_YR9"
   },
   "outputs": [],
   "source": [
    "# Split a Validation set to test\n",
    "x = 8500 # 1500 for validation set\n",
    "y_valid = np.asarray(integer_encoded[x:]).astype(np.float32)\n",
    "y_train = np.asarray(integer_encoded[:x]).astype(np.float32)\n",
    "\n",
    "\n",
    "x_valid = np.asarray(full_images_train[x:]).astype(np.float32)\n",
    "x_train = np.asarray(full_images_train[:x]).astype(np.float32)\n",
    "\n",
    "###################################\n",
    "# smaller sets for testing\n",
    "small_set_size = 2000\n",
    "small_x = np.asarray(full_images_train[:small_set_size])\n",
    "small_y = np.asarray(integer_encoded[:small_set_size])"
   ]
  },
  {
   "cell_type": "markdown",
   "metadata": {
    "colab_type": "text",
    "id": "lNoHPpcd_YSA"
   },
   "source": [
    "### Prep data for dataloader WOW."
   ]
  },
  {
   "cell_type": "code",
   "execution_count": 11,
   "metadata": {
    "colab": {
     "base_uri": "https://localhost:8080/",
     "height": 35
    },
    "colab_type": "code",
    "id": "P7KbyCBHJgWY",
    "outputId": "5fb67525-3218-4f4f-8a91-c476e84ba872"
   },
   "outputs": [
    {
     "name": "stdout",
     "output_type": "stream",
     "text": [
      "ls: cannot access './data/': No such file or directory\n"
     ]
    }
   ],
   "source": [
    "!ls \"./data/\""
   ]
  },
  {
   "cell_type": "code",
   "execution_count": 0,
   "metadata": {
    "colab": {},
    "colab_type": "code",
    "id": "aUK_J82jgkpf"
   },
   "outputs": [],
   "source": [
    "directory = os.path.dirname('./data/')\n",
    "\n",
    "try:\n",
    "    os.stat(directory)\n",
    "except:\n",
    "    os.mkdir(directory)  "
   ]
  },
  {
   "cell_type": "code",
   "execution_count": 0,
   "metadata": {
    "colab": {},
    "colab_type": "code",
    "id": "l8Bp8cG3ygEo"
   },
   "outputs": [],
   "source": [
    "import os, shutil\n",
    "folder = './data/'\n",
    "for the_file in os.listdir(folder):\n",
    "    file_path = os.path.join(folder, the_file)\n",
    "    try:\n",
    "        if os.path.isfile(file_path):\n",
    "            os.unlink(file_path)\n",
    "        elif os.path.isdir(file_path): shutil.rmtree(file_path)\n",
    "    except Exception as e:\n",
    "        print(e)\n",
    "\n",
    "!ls \"./data/\""
   ]
  },
  {
   "cell_type": "code",
   "execution_count": 13,
   "metadata": {
    "colab": {
     "base_uri": "https://localhost:8080/",
     "height": 238
    },
    "colab_type": "code",
    "id": "NiP8qd_-_YSC",
    "outputId": "0c960156-c446-4acb-9c24-243cf57447c1"
   },
   "outputs": [
    {
     "ename": "KeyboardInterrupt",
     "evalue": "ignored",
     "output_type": "error",
     "traceback": [
      "\u001b[0;31m---------------------------------------------------------------------------\u001b[0m",
      "\u001b[0;31mKeyboardInterrupt\u001b[0m                         Traceback (most recent call last)",
      "\u001b[0;32m<ipython-input-13-bee1e7e8c5cc>\u001b[0m in \u001b[0;36m<module>\u001b[0;34m()\u001b[0m\n\u001b[1;32m      6\u001b[0m \u001b[0;32mfor\u001b[0m \u001b[0mx\u001b[0m \u001b[0;32min\u001b[0m \u001b[0mrange\u001b[0m\u001b[0;34m(\u001b[0m\u001b[0mfull_dataset\u001b[0m\u001b[0;34m.\u001b[0m\u001b[0mshape\u001b[0m\u001b[0;34m[\u001b[0m\u001b[0;36m0\u001b[0m\u001b[0;34m]\u001b[0m\u001b[0;34m)\u001b[0m\u001b[0;34m:\u001b[0m\u001b[0;34m\u001b[0m\u001b[0;34m\u001b[0m\u001b[0m\n\u001b[1;32m      7\u001b[0m     \u001b[0;32mfor\u001b[0m \u001b[0my\u001b[0m \u001b[0;32min\u001b[0m \u001b[0mrange\u001b[0m\u001b[0;34m(\u001b[0m\u001b[0;36m31\u001b[0m\u001b[0;34m)\u001b[0m\u001b[0;34m:\u001b[0m\u001b[0;34m\u001b[0m\u001b[0;34m\u001b[0m\u001b[0m\n\u001b[0;32m----> 8\u001b[0;31m         \u001b[0;32mif\u001b[0m \u001b[0minteger_encoded\u001b[0m\u001b[0;34m[\u001b[0m\u001b[0mx\u001b[0m\u001b[0;34m]\u001b[0m \u001b[0;34m==\u001b[0m \u001b[0my\u001b[0m\u001b[0;34m:\u001b[0m\u001b[0;34m\u001b[0m\u001b[0;34m\u001b[0m\u001b[0m\n\u001b[0m\u001b[1;32m      9\u001b[0m             \u001b[0mtemp\u001b[0m \u001b[0;34m=\u001b[0m \u001b[0;34m(\u001b[0m\u001b[0mfull_dataset\u001b[0m\u001b[0;34m[\u001b[0m\u001b[0mx\u001b[0m\u001b[0;34m,\u001b[0m\u001b[0;34m:\u001b[0m\u001b[0;34m]\u001b[0m\u001b[0;34m.\u001b[0m\u001b[0mreshape\u001b[0m\u001b[0;34m(\u001b[0m\u001b[0;36m1\u001b[0m\u001b[0;34m,\u001b[0m\u001b[0;36m100\u001b[0m\u001b[0;34m,\u001b[0m\u001b[0;36m100\u001b[0m\u001b[0;34m)\u001b[0m\u001b[0;34m)\u001b[0m\u001b[0;34m\u001b[0m\u001b[0;34m\u001b[0m\u001b[0m\n\u001b[1;32m     10\u001b[0m \u001b[0;34m\u001b[0m\u001b[0m\n",
      "\u001b[0;31mKeyboardInterrupt\u001b[0m: "
     ]
    }
   ],
   "source": [
    "##############################################################################3\n",
    "###################### NPY FILES ####################\n",
    "\n",
    "## Empty directory\n",
    "full_dataset = np.asarray(full_images_train).astype(np.float32)\n",
    "z=0\n",
    "\n",
    "# load data for dataloader\n",
    "start = time.time()\n",
    "for x in range(full_dataset.shape[0]):\n",
    "    for y in range(31):\n",
    "        if integer_encoded[x] == y: \n",
    "            temp = (full_dataset[x,:].reshape(1,100,100))\n",
    "            \n",
    "            directory = './data/' + str(label_encoder.classes_[y].decode(\"utf-8\"))\n",
    "            if not os.path.exists(directory):\n",
    "                os.makedirs(directory)\n",
    "            \n",
    "            \n",
    "            np.save((directory+ '/' +str(z) +'.npy'), temp)\n",
    "            \n",
    "            z += 1\n",
    "    \n",
    "end = time.time()\n",
    "\n",
    "print('Time to process: ', end-start)\n",
    "print(z, ' datapoints saved to path')"
   ]
  },
  {
   "cell_type": "code",
   "execution_count": 0,
   "metadata": {
    "colab": {},
    "colab_type": "code",
    "id": "PuIAf3qTHHRS"
   },
   "outputs": [],
   "source": []
  },
  {
   "cell_type": "code",
   "execution_count": 15,
   "metadata": {
    "colab": {
     "base_uri": "https://localhost:8080/",
     "height": 52
    },
    "colab_type": "code",
    "id": "YM6FQb6uHHZY",
    "outputId": "5030e1a1-db6a-439d-e870-fe1a0fcbb4c4"
   },
   "outputs": [
    {
     "name": "stdout",
     "output_type": "stream",
     "text": [
      "Time to process:  23.106618642807007\n",
      "10000  datapoints saved to path\n"
     ]
    }
   ],
   "source": [
    "##############################################################################3\n",
    "###################### IMAGE LOADER PNG ####################\n",
    "\n",
    "## Empty directory\n",
    "full_dataset = np.asarray(full_images_train).astype(np.float32)\n",
    "z=0\n",
    "\n",
    "# load data for dataloader\n",
    "start = time.time()\n",
    "for x in range(full_dataset.shape[0]):\n",
    "    for y in range(31):\n",
    "        if integer_encoded[x] == y: \n",
    "            temp = (full_dataset[x,:].reshape(100,100))\n",
    "            \n",
    "            directory = './data/' + str(label_encoder.classes_[y].decode(\"utf-8\"))\n",
    "            if not os.path.exists(directory):\n",
    "                os.makedirs(directory)\n",
    "            \n",
    "            \n",
    "            imsave((directory+ '/' +str(z) +'.jpeg'), temp)\n",
    "            \n",
    "            z += 1\n",
    "    \n",
    "end = time.time()\n",
    "\n",
    "print('Time to process: ', end-start)\n",
    "print(z, ' datapoints saved to path')"
   ]
  },
  {
   "cell_type": "code",
   "execution_count": 14,
   "metadata": {
    "colab": {
     "base_uri": "https://localhost:8080/",
     "height": 52
    },
    "colab_type": "code",
    "id": "uyxY0qpI_YSK",
    "outputId": "d439b79c-414d-4fca-9c2c-cc04df77b848"
   },
   "outputs": [
    {
     "name": "stdout",
     "output_type": "stream",
     "text": [
      "apple\n",
      "10000\n"
     ]
    }
   ],
   "source": [
    "print((label_encoder.classes_[0].decode(\"utf-8\")))\n",
    "print(full_dataset.shape[0])"
   ]
  },
  {
   "cell_type": "code",
   "execution_count": 0,
   "metadata": {
    "colab": {},
    "colab_type": "code",
    "id": "bNb0gh8fbhLa"
   },
   "outputs": [],
   "source": []
  },
  {
   "cell_type": "markdown",
   "metadata": {
    "colab_type": "text",
    "id": "DGIjp3U__YUG"
   },
   "source": [
    "### Convolutional Neural Net"
   ]
  },
  {
   "cell_type": "markdown",
   "metadata": {
    "colab_type": "text",
    "id": "BLOKqtxD_YUG"
   },
   "source": [
    "\n",
    "- What does the 'Flatten' class actually do --> same as .view --> permet de 'flatten' ton tensor de [batchsize, channel, width, height] towards [batchsize, (channel X width X height)]"
   ]
  },
  {
   "cell_type": "code",
   "execution_count": 0,
   "metadata": {
    "colab": {},
    "colab_type": "code",
    "id": "0HF3vfX9_YUK"
   },
   "outputs": [],
   "source": [
    "# http://pytorch.org/\n",
    "from os.path import exists\n",
    "from wheel.pep425tags import get_abbr_impl, get_impl_ver, get_abi_tag\n",
    "platform = '{}{}-{}'.format(get_abbr_impl(), get_impl_ver(), get_abi_tag())\n",
    "cuda_output = !ldconfig -p|grep cudart.so|sed -e 's/.*\\.\\([0-9]*\\)\\.\\([0-9]*\\)$/cu\\1\\2/'\n",
    "accelerator = cuda_output[0] if exists('/dev/nvidia0') else 'cpu'\n",
    "\n"
   ]
  },
  {
   "cell_type": "code",
   "execution_count": 0,
   "metadata": {
    "colab": {},
    "colab_type": "code",
    "id": "CdsyWhuP_YUH"
   },
   "outputs": [],
   "source": [
    "import torch\n",
    "import torch.nn as nn\n",
    "import torch.nn.functional as F\n",
    "import torch.optim as optim\n",
    "from torchvision import datasets, transforms\n",
    "from torch.utils.data import DataLoader\n",
    "import pickle\n",
    "from torch.utils.data.sampler import (SubsetRandomSampler,\n",
    "                                      RandomSampler)\n",
    "from torchvision import datasets, transforms\n"
   ]
  },
  {
   "cell_type": "code",
   "execution_count": 18,
   "metadata": {
    "colab": {
     "base_uri": "https://localhost:8080/",
     "height": 35
    },
    "colab_type": "code",
    "id": "8Lj522g7_YUP",
    "outputId": "5c24adc4-3268-4325-911e-011664fba531"
   },
   "outputs": [
    {
     "name": "stdout",
     "output_type": "stream",
     "text": [
      "cuda\n"
     ]
    }
   ],
   "source": [
    "# If a GPU is available, use it\n",
    "# Pytorch uses an elegant way to keep the code device agnostic\n",
    "if torch.cuda.is_available():\n",
    "    device = torch.device(\"cuda\")\n",
    "    use_cuda = True\n",
    "else:\n",
    "    device = torch.device(\"cpu\")\n",
    "    use_cuda = False\n",
    "    \n",
    "print(device)"
   ]
  },
  {
   "cell_type": "markdown",
   "metadata": {
    "colab_type": "text",
    "id": "v0G640hozfpj"
   },
   "source": [
    "#### Data augmentation"
   ]
  },
  {
   "cell_type": "code",
   "execution_count": 0,
   "metadata": {
    "colab": {},
    "colab_type": "code",
    "id": "Kr5QlbgyliIn"
   },
   "outputs": [],
   "source": [
    "transform_train = transforms.Compose([\n",
    "    transforms.RandomCrop(90),\n",
    "    transforms.Resize(100),\n",
    "    transforms.CenterCrop(100),\n",
    "    transforms.RandomHorizontalFlip(),\n",
    "    transforms.ToTensor(),\n",
    "    transforms.Normalize((0.25, ), (0.75, ))\n",
    "])\n",
    "\n",
    "#transform_list = [transforms.ToTensor(), transforms.Normalize((0.5,), (0.5,))"
   ]
  },
  {
   "cell_type": "code",
   "execution_count": 0,
   "metadata": {
    "colab": {},
    "colab_type": "code",
    "id": "Q7rxw6N1_YUW"
   },
   "outputs": [],
   "source": [
    "\n",
    "\n",
    "\n",
    "class prep_stuff:\n",
    "    def __init__(self, batch_size, path, n_test):\n",
    "        self.batch_size = batch_size\n",
    "        self.path = path\n",
    "        self.n_test = n_test\n",
    "\n",
    "        # This is just for evaluation, we want is as big as the GPU can support\n",
    "        batch_size_eval = 250\n",
    "        \n",
    "        #Create data loader\n",
    "        self.train_data = datasets.ImageFolder(self.path\n",
    "                                                 , transform=transform_train\n",
    "                                                \n",
    "                                      )\n",
    "        \n",
    "        \n",
    "        indices = list(range(len(self.train_data)))\n",
    "        random.shuffle(indices)\n",
    "\n",
    "        # Split dataset into train and Test sets\n",
    "        self.train_loader = DataLoader(\n",
    "            self.train_data,\n",
    "            batch_size=self.batch_size,\n",
    "            sampler=SubsetRandomSampler(indices[:n_test]),\n",
    "            num_workers=1,\n",
    "            pin_memory=use_cuda\n",
    "        )\n",
    "\n",
    "        self.test_loader = DataLoader(\n",
    "            self.train_data,\n",
    "            batch_size=batch_size_eval,\n",
    "            sampler=SubsetRandomSampler(indices[n_test:]),\n",
    "            num_workers=1,\n",
    "            pin_memory=use_cuda\n",
    "        )\n",
    "        \n",
    "           \n",
    "\n",
    "\n",
    "# Create the object with both loader and loss functions\n",
    "\n",
    "batchSize = 75\n",
    "path = './data/'\n",
    "\n",
    "\n",
    "pre_model = prep_stuff(batchSize, path, 8500)\n",
    "\n",
    "\n"
   ]
  },
  {
   "cell_type": "code",
   "execution_count": 0,
   "metadata": {
    "colab": {},
    "colab_type": "code",
    "id": "n_yWlp0J_YUZ"
   },
   "outputs": [],
   "source": []
  },
  {
   "cell_type": "code",
   "execution_count": 32,
   "metadata": {
    "colab": {
     "base_uri": "https://localhost:8080/",
     "height": 341
    },
    "colab_type": "code",
    "id": "QFF4plUD_YUe",
    "outputId": "cb208d51-146c-4984-b43d-bfef4ed78b99"
   },
   "outputs": [
    {
     "name": "stdout",
     "output_type": "stream",
     "text": [
      "This is the shape of one batch torch.Size([75, 3, 100, 100]). What is the meaning of each dimension?  batch size * channels * height * width\n",
      "target torch.Size([75]) {tensor(18), tensor(27), tensor(3), tensor(18), tensor(22), tensor(6), tensor(27), tensor(17), tensor(22), tensor(21), tensor(21), tensor(1), tensor(17), tensor(2), tensor(12), tensor(7), tensor(17), tensor(7), tensor(20), tensor(13), tensor(15), tensor(5), tensor(27), tensor(19), tensor(24), tensor(20), tensor(4), tensor(14), tensor(25), tensor(0), tensor(13), tensor(23), tensor(18), tensor(5), tensor(11), tensor(22), tensor(16), tensor(12), tensor(21), tensor(28), tensor(18), tensor(27), tensor(20), tensor(3), tensor(27), tensor(16), tensor(7), tensor(17), tensor(1), tensor(20), tensor(5), tensor(5), tensor(27), tensor(2), tensor(22), tensor(3), tensor(22), tensor(30), tensor(20), tensor(26), tensor(18), tensor(4), tensor(24), tensor(18), tensor(18), tensor(25), tensor(17), tensor(25), tensor(17), tensor(9), tensor(7), tensor(22), tensor(17), tensor(4), tensor(7)}\n",
      "Time to compute:  0.26229405403137207\n"
     ]
    },
    {
     "data": {
      "image/png": "[encoded data removed]",
      "text/plain": [
       "<matplotlib.figure.Figure at 0x7fa455b03d30>"
      ]
     },
     "metadata": {
      "tags": []
     },
     "output_type": "display_data"
    }
   ],
   "source": [
    "\n",
    "aaa=time.time()\n",
    "for inputs, targets in pre_model.train_loader:\n",
    "    print(f\"This is the shape of one batch {inputs.shape}. What is the meaning of each dimension?  batch size * channels * height * width\")\n",
    "    print(\"target\", targets.shape, set(targets))\n",
    "    img = inputs[0,0]\n",
    "    \n",
    "    plt.imshow(img, cmap='Greys_r')\n",
    "    break\n",
    "    \n",
    "bbb = time.time()\n",
    "\n",
    "print('Time to compute: ' , bbb-aaa)\n",
    "    \n",
    "    "
   ]
  },
  {
   "cell_type": "code",
   "execution_count": 0,
   "metadata": {
    "colab": {},
    "colab_type": "code",
    "id": "jlAQ60K5_YUk"
   },
   "outputs": [],
   "source": [
    "class ConvNet(nn.Module):\n",
    "    \n",
    "    def __init__(self):\n",
    "        super().__init__()\n",
    "        # conv2d( 1-in channels, 2-out channels, 3-kernel size, padding=0, bias=True)\n",
    "        \n",
    "        self.conv = nn.Conv2d(3, 16, 5, padding=2) \n",
    "        \n",
    "        self.conv1 = nn.Conv2d(16, 32, 5, padding=2) # in= 100 out=100\n",
    "        self.bn1 = nn.BatchNorm2d(32)\n",
    "        \n",
    "        self.conv2 = nn.Conv2d(32, 64, 5, padding=2) # in= 100 out=100\n",
    "        self.bn2 = nn.BatchNorm2d(64)\n",
    "        \n",
    "        self.conv3 = nn.Conv2d(64, 64, 5, padding=2) # in=50 out=50\n",
    "        self.bn3 = nn.BatchNorm2d(64)\n",
    "        \n",
    "        self.conv4 = nn.Conv2d(64, 32, 5, padding=2) # in=50 out=50\n",
    "        self.conv5 = nn.Conv2d(32, 32, 5, padding=2) # in=50 out=50\n",
    "        self.bn4 = nn.BatchNorm2d(32)\n",
    "        \n",
    "        # fully connected layer\n",
    "        self.dropout = nn.Dropout(0.2)\n",
    "        self.fc = nn.Linear(32*25*25, 31)\n",
    "        \n",
    "       \n",
    "\n",
    "\n",
    "    def forward(self, xin):\n",
    "        \n",
    "        x = F.relu(self.conv(xin))\n",
    "        # x is [bs, 1, 100, 100]\n",
    "        x = F.relu(self.bn1(self.conv1(x)))\n",
    "        #x = F.max_pool2d(x, 2) \n",
    "        # x is [bs, 32, 94, 94]\n",
    "        x = F.relu(self.bn2(self.conv2(x)))\n",
    "        x = F.max_pool2d(x, 2) \n",
    "        \n",
    "        # x is [bs, 16, 44, 44]\n",
    "        x = F.relu(self.bn3(self.conv3(x))) \n",
    "        #x = F.max_pool2d(x, 2)\n",
    "        # x is [bs, 8, 44, 44]\n",
    "        x = F.relu(self.conv4(x))\n",
    "        x = F.relu(self.bn4(self.conv5(x)))\n",
    "        x = F.max_pool2d(x, 2)\n",
    "        \n",
    "        x = x.view(-1, 32*25*25 ) # flatten\n",
    "        x = self.dropout(x)\n",
    "        x = F.relu(self.fc(x))\n",
    "        \n",
    "        return x\n",
    "   \n",
    "      #F.avg_pool2d\n",
    "      \n",
    "      "
   ]
  },
  {
   "cell_type": "code",
   "execution_count": 0,
   "metadata": {
    "colab": {},
    "colab_type": "code",
    "id": "9yhEEBlmfHEi"
   },
   "outputs": [],
   "source": [
    "class BaseNet(nn.Module):\n",
    "  \n",
    "    \n",
    "    def __init__(self):\n",
    "        super().__init__()\n",
    "        # conv2d( 1-in channels, 2-out channels, 3-kernel size, padding=0, bias=True)\n",
    "        \n",
    "        self.conv1 = nn.Conv2d(3, 32, 5, padding=2)\n",
    "        self.bn1 = nn.BatchNorm2d(32)\n",
    "        \n",
    "        self.conv2 = nn.Conv2d(32, 32, 5, padding=2)\n",
    "        self.bn2 = nn.BatchNorm2d(32)\n",
    "        \n",
    "        self.conv3 = nn.Conv2d(32, 64, 5, padding=2)\n",
    "        self.bn3 = nn.BatchNorm2d(64)\n",
    "        \n",
    "        self.conv4 = nn.Conv2d(64,64, 5, padding=2)\n",
    "        self.bn4 = nn.BatchNorm2d(64)\n",
    "        \n",
    "        \n",
    "        self.dropout = nn.Dropout(0.2)\n",
    "        #FC layer\n",
    "        self.fc = nn.Linear(64*5*5, 31)\n",
    "\n",
    "\n",
    "    def forward(self, xin):\n",
    "        \n",
    "        # x is [bs, 1, 100, 100]\n",
    "        x = F.relu(self.bn1(self.conv1(xin)))\n",
    "        #x = F.max_pool2d(x, 2) \n",
    "        # x is [bs, 32, 100, 100]\n",
    "        x = F.relu(self.bn2(self.conv2(x)))\n",
    "        x = F.max_pool2d(x, 2) \n",
    "        # x is [bs, 16, 50, 50]\n",
    "        x = F.relu(self.bn3(self.conv3(x)))\n",
    "        x = F.max_pool2d(x, 5) \n",
    "        # x is [bs, 32, 10, 10]\n",
    "        x = F.relu(self.bn4(self.conv4(x))) \n",
    "        x = F.max_pool2d(x,2)\n",
    "        \n",
    "        # x is [bs, 64, 5, 5]\n",
    "        x = x.view(-1, 64*5*5 ) # flatten\n",
    "        \n",
    "        x = self.dropout(x)\n",
    "        x = F.relu(self.fc(x))\n",
    "        return x\n",
    "   \n",
    "      \n",
    "      \n",
    "      "
   ]
  },
  {
   "cell_type": "code",
   "execution_count": 0,
   "metadata": {
    "colab": {},
    "colab_type": "code",
    "id": "7N0FJgUMDMgt"
   },
   "outputs": [],
   "source": [
    "class OtherNet(nn.Module):\n",
    "    \n",
    "    def __init__(self):\n",
    "        super().__init__()\n",
    "        # conv block 1\n",
    "        self.conv1 = nn.Conv2d(3, 32, 3, padding=1)\n",
    "        self.bn1 = nn.BatchNorm2d(32)\n",
    "        self.conv2 = nn.Conv2d(32, 32, 3, padding=1)\n",
    "        self.bn2 = nn.BatchNorm2d(32)\n",
    "        \n",
    "        # conv block 2\n",
    "        self.conv3 = nn.Conv2d(32, 64, 3, padding=1)\n",
    "        self.bn3 = nn.BatchNorm2d(64)\n",
    "        self.conv4 = nn.Conv2d(64, 64, 3, padding=1)\n",
    "        self.bn4 = nn.BatchNorm2d(64)\n",
    "        \n",
    "        # conv block 3\n",
    "        self.conv5 = nn.Conv2d(64, 128, 3, padding=1)\n",
    "        self.bn5 = nn.BatchNorm2d(128)\n",
    "        self.conv6 = nn.Conv2d(128, 128, 3, padding=1)\n",
    "        self.bn6 = nn.BatchNorm2d(128)\n",
    "        \n",
    "        # fully connected layers\n",
    "        self.fc1 = nn.Linear(64*25*25, 512)\n",
    "        self.bn7 = nn.BatchNorm1d(512)\n",
    "        self.dropout = nn.Dropout(0.2)\n",
    "        self.fc2 = nn.Linear(512, 31)\n",
    "        \n",
    "       \n",
    "\n",
    "\n",
    "    def forward(self, x):\n",
    "        # x is [batch_size, channels, heigth, width] = [bs, 1, 100, 100]\n",
    "        x = F.relu(self.bn1(self.conv1(x)))\n",
    "        x = F.relu(self.bn2(self.conv2(x)))\n",
    "        x = F.avg_pool2d(x, 2) # x is [bs, 32, 50, 50]\n",
    "        \n",
    "        x = F.relu(self.bn3(self.conv3(x)))\n",
    "        x = F.relu(self.bn4(self.conv4(x)))\n",
    "        x = F.max_pool2d(x, 2) # x is [bs, 64, 25, 25]\n",
    "        \n",
    "        #x = F.relu(self.bn5(self.conv5(x)))\n",
    "        #x = F.relu(self.bn6(self.conv6(x)))\n",
    "        #x = F.max_pool2d(x, 2) # x is [bs, 128, 12, 12]\n",
    "        \n",
    "        x = x.view(x.size(0), -1) # flatten\n",
    "        \n",
    "        x = F.relu(self.bn7(self.fc1(x)))\n",
    "        x = self.dropout(x)\n",
    "        x = self.fc2(x)\n",
    "        \n",
    "        return x\n",
    "   \n",
    "      #F.avg_pool2d\n",
    "      \n",
    "      "
   ]
  },
  {
   "cell_type": "code",
   "execution_count": 0,
   "metadata": {
    "colab": {},
    "colab_type": "code",
    "id": "TPh4dOgQ_YUk"
   },
   "outputs": [],
   "source": []
  },
  {
   "cell_type": "code",
   "execution_count": 0,
   "metadata": {
    "colab": {},
    "colab_type": "code",
    "id": "0qe6gyLb_YUn"
   },
   "outputs": [],
   "source": [
    "def train(model,train_loader, optimizer, epoch ):\n",
    "    \"\"\"Perform one epoch of training.\"\"\"\n",
    "    model.train()\n",
    "    \n",
    "    for batch_idx, (inputs, target) in enumerate(train_loader):\n",
    "      \n",
    "        inputs, target = inputs.to(device), target.to(device)\n",
    "        \n",
    "        optimizer.zero_grad()\n",
    "        output = model(inputs)\n",
    "        loss = loss_fn(output, target)\n",
    "        # Backprop\n",
    "        loss.backward()\n",
    "        optimizer.step()\n",
    "        ###\n",
    "        \n",
    "        #if batch_idx % 10 == 0:\n",
    "         #   print('Train Epoch: {} [{}/{} ({:.0f}%)]\\tLoss: {:.6f}'.format(\n",
    "          #      epoch, batch_idx * len(inputs), len(train_loader) *len(inputs) ,\n",
    "           #     100. * batch_idx / len(train_loader), loss.item()))"
   ]
  },
  {
   "cell_type": "code",
   "execution_count": 0,
   "metadata": {
    "colab": {},
    "colab_type": "code",
    "id": "7OjMfEgd_YUr"
   },
   "outputs": [],
   "source": [
    "def test(model, test_loader):\n",
    "    model.eval()\n",
    "    \n",
    "    test_loss = 0\n",
    "    correct = 0\n",
    "    test_size = 0\n",
    "    with torch.no_grad():\n",
    "        for inputs, target in test_loader:\n",
    "          \n",
    "            inputs, target = inputs.to(device), target.to(device)\n",
    "            \n",
    "            \n",
    "            output = model(inputs)\n",
    "            test_size += len(inputs)\n",
    "            test_loss += test_loss_fn(output, target).item() \n",
    "            pred = output.max(1, keepdim=True)[1] \n",
    "            correct += pred.eq(target.view_as(pred)).sum().item()\n",
    "\n",
    "    test_loss /= test_size\n",
    "    accuracy = correct / test_size\n",
    "    print('\\nTest set: Average loss: {:.4f}, Accuracy: {}/{} ({:.0f}%)\\n'.format(\n",
    "        test_loss, correct, test_size,\n",
    "        100. * accuracy))\n",
    "    \n",
    "    return test_loss, accuracy"
   ]
  },
  {
   "cell_type": "code",
   "execution_count": 54,
   "metadata": {
    "colab": {
     "base_uri": "https://localhost:8080/",
     "height": 764
    },
    "colab_type": "code",
    "id": "mjOiaI0DMF42",
    "outputId": "4b13ea76-a88b-459d-a537-f16b1656bfc9"
   },
   "outputs": [
    {
     "name": "stdout",
     "output_type": "stream",
     "text": [
      "Training beginning...\n",
      "Epoch  1 :\n",
      "\n",
      "Test set: Average loss: 5.3844, Accuracy: 33/1500 (2%)\n",
      "\n",
      "Epoch  2 :\n",
      "\n",
      "Test set: Average loss: 4.7854, Accuracy: 72/1500 (5%)\n",
      "\n",
      "Epoch  3 :\n",
      "\n",
      "Test set: Average loss: 4.2269, Accuracy: 96/1500 (6%)\n",
      "\n",
      "Epoch  4 :\n",
      "\n",
      "Test set: Average loss: 2.9821, Accuracy: 236/1500 (16%)\n",
      "\n",
      "Epoch  5 :\n",
      "\n",
      "Test set: Average loss: 2.9889, Accuracy: 218/1500 (15%)\n",
      "\n",
      "Epoch  6 :\n",
      "\n",
      "Test set: Average loss: 8.4477, Accuracy: 71/1500 (5%)\n",
      "\n",
      "Epoch  7 :\n",
      "\n",
      "Test set: Average loss: 21.6676, Accuracy: 97/1500 (6%)\n",
      "\n",
      "Epoch  8 :\n",
      "\n",
      "Test set: Average loss: 16.5021, Accuracy: 98/1500 (7%)\n",
      "\n",
      "Epoch  9 :\n",
      "\n",
      "Test set: Average loss: 2.3890, Accuracy: 439/1500 (29%)\n",
      "\n",
      "Epoch  10 :\n",
      "\n",
      "Test set: Average loss: 4.3995, Accuracy: 191/1500 (13%)\n",
      "\n",
      "Training on 10 epochs done in  220.29332542419434  seconds\n"
     ]
    }
   ],
   "source": [
    "\n",
    "\n",
    "model = OtherNet().to(device)\n",
    "test_accuracy = []\n",
    "train_loss = []\n",
    "nbr_epochs = 10\n",
    "lr = 0.0005 # \n",
    "weight_decay = 0.005\n",
    "\n",
    "\n",
    "\n",
    "# Surrogate loss used for training\n",
    "loss_fn = nn.CrossEntropyLoss()\n",
    "test_loss_fn = nn.CrossEntropyLoss(reduction='sum')\n",
    "\n",
    "\n",
    "optimizer = optim.Adam(model.parameters(), lr=lr)\n",
    "#optimizer = optim.SGD(model.parameters(), lr=lr ,weight_decay=weight_decay)\n",
    "\n",
    "\n",
    "print('Training beginning...')\n",
    "start_time = time.time()\n",
    "for epoch in range(1, nbr_epochs+1):\n",
    "    print('Epoch ', epoch, ':')\n",
    "    train(model, pre_model.train_loader, optimizer, epoch)\n",
    "    loss, acc = test(model, pre_model.test_loader)\n",
    "    \n",
    "    # save results every epoch\n",
    "    test_accuracy.append(acc)\n",
    "    train_loss.append(loss)\n",
    "\n",
    "end_time = time.time()\n",
    "print('Training on ' + str(nbr_epochs) + ' epochs done in ', str(end_time-start_time),' seconds')"
   ]
  },
  {
   "cell_type": "code",
   "execution_count": 0,
   "metadata": {
    "colab": {},
    "colab_type": "code",
    "id": "ALZEpfQj_YUx"
   },
   "outputs": [],
   "source": [
    "\n",
    "\n",
    "model = BaseNet().to(device)\n",
    "test_accuracy = []\n",
    "train_loss = []\n",
    "nbr_epochs = 10\n",
    "lr = 0.001\n",
    "weight_decay = 0.005\n",
    "\n",
    "\n",
    "# Surrogate loss used for training\n",
    "loss_fn = nn.CrossEntropyLoss()\n",
    "test_loss_fn = nn.CrossEntropyLoss(reduction='sum')\n",
    "\n",
    "\n",
    "optimizer = optim.Adam(model.parameters(), lr=lr,weight_decay=weight_decay)\n",
    "#optimizer = optim.SGD(model.parameters(), lr=lr ,weight_decay=weight_decay)\n",
    "\n",
    "\n",
    "print('Training beginning...')\n",
    "start_time = time.time()\n",
    "for epoch in range(1, nbr_epochs+1):\n",
    "    print('Epoch ', epoch, ':')\n",
    "    train(model, pre_model.train_loader, optimizer, epoch)\n",
    "    loss, acc = test(model, pre_model.test_loader)\n",
    "    \n",
    "    # save results every epoch\n",
    "    test_accuracy.append(acc)\n",
    "    train_loss.append(loss)\n",
    "\n",
    "end_time = time.time()\n",
    "print('Training on ' + str(nbr_epochs) + ' epochs done in ', str(end_time-start_time),' seconds')"
   ]
  },
  {
   "cell_type": "code",
   "execution_count": 39,
   "metadata": {
    "colab": {
     "base_uri": "https://localhost:8080/",
     "height": 603
    },
    "colab_type": "code",
    "id": "DNwpBGlb_YU4",
    "outputId": "b5eaf96f-09a1-41bd-e763-9abe60011e99"
   },
   "outputs": [
    {
     "name": "stdout",
     "output_type": "stream",
     "text": [
      "With lr= 0.0005 , weight decay =  0.005  and \n",
      "OtherNet(\n",
      "  (conv1): Conv2d(3, 32, kernel_size=(3, 3), stride=(1, 1), padding=(1, 1))\n",
      "  (bn1): BatchNorm2d(32, eps=1e-05, momentum=0.1, affine=True, track_running_stats=True)\n",
      "  (conv2): Conv2d(32, 32, kernel_size=(3, 3), stride=(1, 1), padding=(1, 1))\n",
      "  (bn2): BatchNorm2d(32, eps=1e-05, momentum=0.1, affine=True, track_running_stats=True)\n",
      "  (conv3): Conv2d(32, 64, kernel_size=(3, 3), stride=(1, 1), padding=(1, 1))\n",
      "  (bn3): BatchNorm2d(64, eps=1e-05, momentum=0.1, affine=True, track_running_stats=True)\n",
      "  (conv4): Conv2d(64, 64, kernel_size=(3, 3), stride=(1, 1), padding=(1, 1))\n",
      "  (bn4): BatchNorm2d(64, eps=1e-05, momentum=0.1, affine=True, track_running_stats=True)\n",
      "  (conv5): Conv2d(64, 128, kernel_size=(3, 3), stride=(1, 1), padding=(1, 1))\n",
      "  (bn5): BatchNorm2d(128, eps=1e-05, momentum=0.1, affine=True, track_running_stats=True)\n",
      "  (conv6): Conv2d(128, 128, kernel_size=(3, 3), stride=(1, 1), padding=(1, 1))\n",
      "  (bn6): BatchNorm2d(128, eps=1e-05, momentum=0.1, affine=True, track_running_stats=True)\n",
      "  (fc1): Linear(in_features=18432, out_features=512, bias=True)\n",
      "  (bn7): BatchNorm1d(512, eps=1e-05, momentum=0.1, affine=True, track_running_stats=True)\n",
      "  (dropout): Dropout(p=0.2)\n",
      "  (fc2): Linear(in_features=512, out_features=31, bias=True)\n",
      ")\n"
     ]
    },
    {
     "data": {
      "image/png": "[encoded data removed]",
      "text/plain": [
       "<matplotlib.figure.Figure at 0x7fa4558e3f98>"
      ]
     },
     "metadata": {
      "tags": []
     },
     "output_type": "display_data"
    }
   ],
   "source": [
    "# Accuracy\n",
    "xvalues= np.arange(0,nbr_epochs,1)\n",
    "plt.plot(xvalues, test_accuracy)\n",
    "\n",
    "print('With lr=',lr,', weight decay = ',weight_decay, ' and ')\n",
    "print(model)"
   ]
  },
  {
   "cell_type": "code",
   "execution_count": 40,
   "metadata": {
    "colab": {
     "base_uri": "https://localhost:8080/",
     "height": 283
    },
    "colab_type": "code",
    "id": "QlbqZAZu_YU6",
    "outputId": "95db81d5-360d-49d7-ba33-d661afd6d337"
   },
   "outputs": [
    {
     "data": {
      "text/plain": [
       "[<matplotlib.lines.Line2D at 0x7fa4557f8828>]"
      ]
     },
     "execution_count": 40,
     "metadata": {
      "tags": []
     },
     "output_type": "execute_result"
    },
    {
     "data": {
      "image/png": "[encoded data removed]",
      "text/plain": [
       "<matplotlib.figure.Figure at 0x7fa455ae9d30>"
      ]
     },
     "metadata": {
      "tags": []
     },
     "output_type": "display_data"
    }
   ],
   "source": [
    "#error\n",
    "plt.plot(xvalues, train_loss)"
   ]
  },
  {
   "cell_type": "code",
   "execution_count": 0,
   "metadata": {
    "colab": {},
    "colab_type": "code",
    "id": "jx9ZLM9E_YU8"
   },
   "outputs": [],
   "source": []
  },
  {
   "cell_type": "markdown",
   "metadata": {
    "colab_type": "text",
    "id": "13tcE4rf4jJF"
   },
   "source": [
    "### Predict with existing model"
   ]
  },
  {
   "cell_type": "code",
   "execution_count": 0,
   "metadata": {
    "colab": {},
    "colab_type": "code",
    "id": "QbrV55wRd-Lr"
   },
   "outputs": [],
   "source": []
  },
  {
   "cell_type": "code",
   "execution_count": 0,
   "metadata": {
    "colab": {},
    "colab_type": "code",
    "id": "cVnV9kDXchVV"
   },
   "outputs": [],
   "source": [
    "\n",
    "images_to_pred = np.asarray([item[1] for item in images_test]).reshape(10000,1,100,100)\n",
    "\n",
    "images_to_pred = torch.from_numpy(images_to_pred)"
   ]
  },
  {
   "cell_type": "code",
   "execution_count": 0,
   "metadata": {
    "colab": {},
    "colab_type": "code",
    "id": "IJV9r8H0I-_a"
   },
   "outputs": [],
   "source": [
    "#print(images_to_pred[:10])"
   ]
  },
  {
   "cell_type": "code",
   "execution_count": 0,
   "metadata": {
    "colab": {},
    "colab_type": "code",
    "id": "Mv2OtCF447Ez"
   },
   "outputs": [],
   "source": [
    "'''pred_inputs = []\n",
    "for x in range(10000):\n",
    "  f = images_to_pred[x,:,:,:].unsqueeze_(0)\n",
    "  \n",
    "  y = f.repeat([1, 3, 1, 1])\n",
    "  pred_inputs.append(y)'''"
   ]
  },
  {
   "cell_type": "code",
   "execution_count": 0,
   "metadata": {
    "colab": {},
    "colab_type": "code",
    "id": "TySiUmizDNCl"
   },
   "outputs": [],
   "source": [
    "#print(pred_inputs[:10])"
   ]
  },
  {
   "cell_type": "code",
   "execution_count": 57,
   "metadata": {
    "colab": {
     "base_uri": "https://localhost:8080/",
     "height": 106
    },
    "colab_type": "code",
    "id": "9MpG-6PWebYp",
    "outputId": "4cea4e91-c7bc-477c-ba5b-14a4bebf6e02"
   },
   "outputs": [
    {
     "name": "stdout",
     "output_type": "stream",
     "text": [
      "torch.Size([1, 100, 100])\n",
      "now torch.Size([1, 3, 100, 100])\n",
      "torch.Size([1, 100, 100])\n",
      "now torch.Size([1, 3, 100, 100])\n",
      "Time to predict  10000  examples:  0.0127105712890625\n"
     ]
    }
   ],
   "source": [
    "predictions = []\n",
    "model.eval()\n",
    "time_1 = time.time()\n",
    "for x in range(2):\n",
    "    y = images_to_pred[x,:]\n",
    "    #print(y.shape)\n",
    "    y = y.float().to(device)\n",
    "    f = y.unsqueeze(0)\n",
    "    #print(f.shape)\n",
    "    z = f.repeat([1, 3, 1, 1])\n",
    "    #print('now', z.shape)\n",
    "    pred = model(z)\n",
    "    \n",
    "    z = pred.max(1, keepdim=True)[1] \n",
    "    predictions.append(z)\n",
    "    \n",
    "time_2 = time.time()\n",
    "print('Time to predict ', images_to_pred.shape[0],' examples: ', (time_2-time_1))"
   ]
  },
  {
   "cell_type": "code",
   "execution_count": 40,
   "metadata": {
    "colab": {
     "base_uri": "https://localhost:8080/",
     "height": 55
    },
    "colab_type": "code",
    "id": "TyQVe5q0H1O-",
    "outputId": "ac6e704b-d57f-4822-b641-144a1615b3fa"
   },
   "outputs": [
    {
     "name": "stdout",
     "output_type": "stream",
     "text": [
      "[tensor([[16]], device='cuda:0'), tensor([[8]], device='cuda:0'), tensor([[8]], device='cuda:0'), tensor([[8]], device='cuda:0'), tensor([[14]], device='cuda:0'), tensor([[14]], device='cuda:0'), tensor([[16]], device='cuda:0'), tensor([[8]], device='cuda:0'), tensor([[16]], device='cuda:0'), tensor([[16]], device='cuda:0'), tensor([[8]], device='cuda:0'), tensor([[8]], device='cuda:0'), tensor([[16]], device='cuda:0'), tensor([[8]], device='cuda:0')]\n"
     ]
    }
   ],
   "source": [
    "print(predictions[:15])"
   ]
  },
  {
   "cell_type": "code",
   "execution_count": 44,
   "metadata": {
    "colab": {
     "base_uri": "https://localhost:8080/",
     "height": 55
    },
    "colab_type": "code",
    "id": "8UT0isr7_YU-",
    "outputId": "2cf0d87f-932b-42a2-d7b0-f940065f5a70"
   },
   "outputs": [
    {
     "name": "stdout",
     "output_type": "stream",
     "text": [
      "['paintbrush', 'octagon', 'octagon', 'octagon', 'octagon', 'paintbrush', 'octagon', 'octagon', 'octagon', 'octagon', 'octagon', 'octagon', 'octagon', 'octagon', 'octagon']\n"
     ]
    }
   ],
   "source": [
    "something = []\n",
    "for j in range(10000):\n",
    "\n",
    "  something.append(label_encoder.classes_[predictions[j]].decode(\"utf-8\"))\n",
    "\n",
    "\n",
    "print(something[100:115])"
   ]
  },
  {
   "cell_type": "markdown",
   "metadata": {
    "colab_type": "text",
    "id": "U-5LIxV3oXJ8"
   },
   "source": [
    "### Routine to save to csv file"
   ]
  },
  {
   "cell_type": "code",
   "execution_count": 0,
   "metadata": {
    "colab": {},
    "colab_type": "code",
    "id": "K6njPD-ooVZv"
   },
   "outputs": [],
   "source": [
    "### Save result to CSV file\n",
    "\n",
    "#* https://stackabuse.com/reading-and-writing-csv-files-in-python/\n",
    "#* csv.writer(csvfile, dialect='excel', **fmtparams)\n",
    "\n",
    "import csv\n",
    "\n",
    "directory2 = os.path.dirname('./drive/My Drive/4 - kaggle/preds/')\n",
    "\n",
    "try:\n",
    "    os.stat(directory2)\n",
    "except:\n",
    "    os.mkdir(directory2)  \n"
   ]
  },
  {
   "cell_type": "code",
   "execution_count": 0,
   "metadata": {
    "colab": {},
    "colab_type": "code",
    "id": "NPIrRBK4oVdE"
   },
   "outputs": [],
   "source": [
    "\n",
    "\n",
    "myFile = open('./drive/My Drive/4 - kaggle/preds/preds.csv', 'w') \n",
    "\n",
    "with myFile:  \n",
    "    myFields = ['Id', 'Category']\n",
    "    writer = csv.DictWriter(myFile, fieldnames=myFields)    \n",
    "    writer.writeheader()\n",
    "    \n",
    "    for x in range(len(something)):\n",
    "      writer.writerow({'Id' : x, 'Category': something[x]})\n",
    "      "
   ]
  },
  {
   "cell_type": "code",
   "execution_count": 0,
   "metadata": {
    "colab": {},
    "colab_type": "code",
    "id": "Smg5RltrDH9U"
   },
   "outputs": [],
   "source": []
  },
  {
   "cell_type": "code",
   "execution_count": 0,
   "metadata": {
    "colab": {},
    "colab_type": "code",
    "id": "6hV28DaoDIBX"
   },
   "outputs": [],
   "source": []
  },
  {
   "cell_type": "code",
   "execution_count": 0,
   "metadata": {
    "colab": {},
    "colab_type": "code",
    "id": "kCJVVfw7oVf_"
   },
   "outputs": [],
   "source": [
    "#########################\n",
    "#   ERASE PREDICTION FILE\n",
    "############################\n",
    "\n",
    "\n",
    "folder = './drive/My Drive/4 - kaggle/preds/'\n",
    "for the_file in os.listdir(folder):\n",
    "    file_path = os.path.join(folder, the_file)\n",
    "    try:\n",
    "        if os.path.isfile(file_path):\n",
    "            os.unlink(file_path)\n",
    "        elif os.path.isdir(file_path): shutil.rmtree(file_path)\n",
    "    except Exception as e:\n",
    "        print(e)\n",
    "\n",
    "!ls './drive/My Drive/4 - kaggle/preds/'\n",
    "\n",
    "\n"
   ]
  },
  {
   "cell_type": "code",
   "execution_count": 0,
   "metadata": {
    "colab": {},
    "colab_type": "code",
    "id": "T75gh-MGDB39"
   },
   "outputs": [],
   "source": []
  }
 ],
 "metadata": {
  "accelerator": "GPU",
  "colab": {
   "collapsed_sections": [],
   "name": "Copy of Untitled_colab.ipynb",
   "provenance": [],
   "version": "0.3.2"
  },
  "kernelspec": {
   "display_name": "Python 3",
   "language": "python",
   "name": "python3"
  },
  "language_info": {
   "codemirror_mode": {
    "name": "ipython",
    "version": 3
   },
   "file_extension": ".py",
   "mimetype": "text/x-python",
   "name": "python",
   "nbconvert_exporter": "python",
   "pygments_lexer": "ipython3",
   "version": "3.7.0"
  }
 },
 "nbformat": 4,
 "nbformat_minor": 1
}
